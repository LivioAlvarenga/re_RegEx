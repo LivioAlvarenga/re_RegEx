{
 "metadata": {
  "language_info": {
   "codemirror_mode": {
    "name": "ipython",
    "version": 3
   },
   "file_extension": ".py",
   "mimetype": "text/x-python",
   "name": "python",
   "nbconvert_exporter": "python",
   "pygments_lexer": "ipython3",
   "version": "3.9.5"
  },
  "orig_nbformat": 4,
  "kernelspec": {
   "name": "python3",
   "display_name": "Python 3.9.5 64-bit ('venv': venv)"
  },
  "interpreter": {
   "hash": "325cb660cce599eef17833f9bb0afcb0e3dbe3e8605c570c8e00eb36d04c5df3"
  }
 },
 "nbformat": 4,
 "nbformat_minor": 2,
 "cells": [
  {
   "source": [
    "<h1><font color=#32CD32>Biblioteca re (Regular Expression) -- RegEx</font></h1>"
   ],
   "cell_type": "markdown",
   "metadata": {}
  },
  {
   "source": [
    "<h2><font color=#00BFFF>re.compile para CEP - Usando search e group()</font></h2>"
   ],
   "cell_type": "markdown",
   "metadata": {}
  },
  {
   "cell_type": "code",
   "execution_count": 5,
   "metadata": {},
   "outputs": [
    {
     "output_type": "stream",
     "name": "stdout",
     "text": [
      "<re.Match object; span=(62, 71), match='30380-041'>\n\n30380-041\n"
     ]
    }
   ],
   "source": [
    "import re\n",
    "\n",
    "endereço = 'Rua da Flores 72, apto 1102, Laranjeiras, Belo Horizonte, MG, 30380-041'\n",
    "\n",
    "# CEP = 5 digitos + hifen (opcional) + 3 digitos\n",
    "# criando um padrão para o cep\n",
    "padrão = re.compile('[0123456789][0123456789][0123456789][0123456789][0123456789][-][0123456789][0123456789][0123456789]')\n",
    "\n",
    "# criando uma variável de busca para fazermos o Match e localizar o padrão no endereço\n",
    "busca = padrão.search(endereço) # retorno objeto ou None\n",
    "\n",
    "print(busca)\n",
    "\n",
    "if busca:\n",
    "    cep = busca.group()\n",
    "    print(f'\\n{cep}')"
   ]
  },
  {
   "source": [
    "<h3><font color=#DAA520>Tornando um caractere opcional com ?</font></h3>\n"
   ],
   "cell_type": "markdown",
   "metadata": {}
  },
  {
   "cell_type": "code",
   "execution_count": 9,
   "metadata": {},
   "outputs": [
    {
     "output_type": "stream",
     "name": "stdout",
     "text": [
      "padrão sem caractere ? - None\n\npadrão com caractere ? - <re.Match object; span=(62, 70), match='30380041'>\n\n30380041\n"
     ]
    }
   ],
   "source": [
    "# fazendo um teste retirando o hifen do CEP\n",
    "endereço = 'Rua da Flores 72, apto 1102, Laranjeiras, Belo Horizonte, MG, 30380041'\n",
    "\n",
    "padrão = re.compile('[0123456789][0123456789][0123456789][0123456789][0123456789][-][0123456789][0123456789][0123456789]')\n",
    "\n",
    "busca = padrão.search(endereço)\n",
    "\n",
    "# O busca retornara None\n",
    "print(f'padrão sem caractere ? - {busca}')\n",
    "\n",
    "# refazendo o padrão com caractere opcional ? ao lado do hifen\n",
    "padrão = re.compile('[0123456789][0123456789][0123456789][0123456789][0123456789][-]?[0123456789][0123456789][0123456789]')\n",
    "\n",
    "busca = padrão.search(endereço)\n",
    "\n",
    "print(f'\\npadrão com caractere ? - {busca}')\n",
    "\n",
    "if busca:\n",
    "    cep = busca.group()\n",
    "    print(f'\\n{cep}')"
   ]
  },
  {
   "source": [
    "<h3><font color=#DAA520>Simplificando o padrão com conjuntos {}</font></h3>"
   ],
   "cell_type": "markdown",
   "metadata": {}
  },
  {
   "cell_type": "code",
   "execution_count": 14,
   "metadata": {},
   "outputs": [
    {
     "output_type": "stream",
     "name": "stdout",
     "text": [
      "\npadrão com caractere ? e com uso de conjuntos:\n<re.Match object; span=(62, 70), match='30380041'>\n\n30380041\n"
     ]
    }
   ],
   "source": [
    "endereço = 'Rua da Flores 72, apto 1102, Laranjeiras, Belo Horizonte, MG, 30380041'\n",
    "\n",
    "padrão = re.compile('[0123456789]{5}[-]?[0123456789]{3}')\n",
    "\n",
    "busca = padrão.search(endereço)\n",
    "\n",
    "print(f'\\npadrão com caractere ? e com uso de conjuntos:\\n{busca}')\n",
    "\n",
    "if busca:\n",
    "    cep = busca.group()\n",
    "    print(f'\\n{cep}')"
   ]
  },
  {
   "source": [
    "<h3><font color=#DAA520>Simplificando o padrão com intervalos [0-9] | [a-z]</font></h3>"
   ],
   "cell_type": "markdown",
   "metadata": {}
  },
  {
   "cell_type": "code",
   "execution_count": 15,
   "metadata": {},
   "outputs": [
    {
     "output_type": "stream",
     "name": "stdout",
     "text": [
      "\npadrão com caractere ?, uso de conjuntos e intervalo [0-9]:\n<re.Match object; span=(62, 70), match='30380041'>\n\n30380041\n"
     ]
    }
   ],
   "source": [
    "endereço = 'Rua da Flores 72, apto 1102, Laranjeiras, Belo Horizonte, MG, 30380041'\n",
    "\n",
    "padrão = re.compile('[0-9]{5}[-]?[0-9]{3}')\n",
    "\n",
    "busca = padrão.search(endereço)\n",
    "\n",
    "print(f'\\npadrão com caractere ?, uso de conjuntos e intervalo [0-9]:\\n{busca}')\n",
    "\n",
    "if busca:\n",
    "    cep = busca.group()\n",
    "    print(f'\\n{cep}')"
   ]
  },
  {
   "source": [
    "<h3><font color=#DAA520>Simplificando o padrão com caractere ? ou quantificador {0,1}</font></h3>"
   ],
   "cell_type": "markdown",
   "metadata": {}
  },
  {
   "cell_type": "code",
   "execution_count": 18,
   "metadata": {},
   "outputs": [
    {
     "output_type": "stream",
     "name": "stdout",
     "text": [
      "\n30380041\n\n30380-041\n"
     ]
    }
   ],
   "source": [
    "cep_sem_hifen = 'Rua da Flores 72, apto 1102, Laranjeiras, Belo Horizonte, MG, 30380041'\n",
    "cep_com_hifen = 'Rua da Flores 72, apto 1102, Laranjeiras, Belo Horizonte, MG, 30380-041'\n",
    "\n",
    "# ambos geram o mesmo resultado!\n",
    "padrão1 = re.compile('[0-9]{5}[-]?[0-9]{3}')\n",
    "padrão2 = re.compile('[0-9]{5}[-]{0,1}[0-9]{3}')\n",
    "\n",
    "busca1 = padrão1.search(cep_sem_hifen)\n",
    "busca2 = padrão2.search(cep_com_hifen)\n",
    "\n",
    "if busca1:\n",
    "    cep = busca1.group()\n",
    "    print(f'\\n{cep}')\n",
    "\n",
    "if busca2:\n",
    "    cep = busca2.group()\n",
    "    print(f'\\n{cep}')"
   ]
  },
  {
   "source": [
    "<h2><font color=#00BFFF>re.compile para CPF - Usando search e group()</font></h2>"
   ],
   "cell_type": "markdown",
   "metadata": {}
  },
  {
   "cell_type": "code",
   "execution_count": 19,
   "metadata": {},
   "outputs": [
    {
     "output_type": "stream",
     "name": "stdout",
     "text": [
      "\n718.457.190-85\n"
     ]
    }
   ],
   "source": [
    "import re\n",
    "\n",
    "texto = 'Rafaela Brasil, CPF: 718.457.190-85'\n",
    "\n",
    "padrão = re.compile('[0-9]{3}[.]?[0-9]{3}[.]?[0-9]{3}[-]?[0-9]{2}')\n",
    "\n",
    "busca = padrão.search(texto)\n",
    "\n",
    "if busca:\n",
    "    cpf = busca.group()\n",
    "    print(f'\\n{cpf}')\n"
   ]
  }
 ]
}